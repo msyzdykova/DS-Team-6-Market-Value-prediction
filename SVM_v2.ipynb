{
 "cells": [
  {
   "cell_type": "code",
   "execution_count": null,
   "metadata": {
    "colab": {
     "base_uri": "https://localhost:8080/"
    },
    "id": "f4rNWj8n-KkW",
    "outputId": "3e5b7bc5-b024-472e-8132-39af99c0fa9f"
   },
   "outputs": [
    {
     "name": "stdout",
     "output_type": "stream",
     "text": [
      "Mean Squared Error (MSE): 0.4130\n",
      "R-squared (R2): 0.4164\n",
      "Predictions (original scale): [ 5523517.31973698 12023571.783857   54462122.14480911 23478867.44223009\n",
      "  8586109.06671578 18578111.48368444 15666426.57055459  1205302.52818821\n",
      " 34112329.77152855  4794224.7202271 ]\n",
      "Actual values (original scale): [ 4000000. 50000000. 40000000. 17000000.  8000000. 30000000. 30000000.\n",
      "  5000000. 55000000. 20000000.]\n",
      "Train Mean Squared Error (MSE): 0.3028\n",
      "Train R-squared (R2): 0.6972\n"
     ]
    }
   ],
   "source": [
    "import pandas as pd\n",
    "import numpy as np\n",
    "import matplotlib.pyplot as plt\n",
    "from sklearn.preprocessing import StandardScaler\n",
    "from sklearn.model_selection import train_test_split\n",
    "from sklearn.svm import SVR\n",
    "from sklearn.metrics import mean_squared_error, r2_score\n",
    "\n",
    "# Load and preprocess the data\n",
    "data_pd = pd.read_csv('final_df_new.csv')\n",
    "data_pd = data_pd.fillna(0)\n",
    "\n",
    "# One-hot encoding for categorical variables\n",
    "data_pd = pd.get_dummies(data_pd, columns=['Pos'])\n",
    "data_pd = pd.get_dummies(data_pd, columns=['League'])\n",
    "\n",
    "# Feature engineering\n",
    "data_pd['CountryESP'] = (data_pd['Nation'] == 'ESP').astype(int)\n",
    "data_pd['CountryENG'] = (data_pd['Nation'] == 'ENG').astype(int)\n",
    "data_pd['CountryOther'] = ((data_pd['Nation'] != 'ESP') & (data_pd['Nation'] != 'ENG')).astype(int)\n",
    "\n",
    "# Train-test split\n",
    "train_df, test_df = train_test_split(data_pd, test_size=0.5)\n",
    "\n",
    "# Drop unnecessary columns\n",
    "dropped_columns = ['Unnamed: 0', 'Player', 'Nation', 'Squad', '90s', 'Market Value']\n",
    "train_df_dropped_cols = train_df.drop(dropped_columns, axis=1)\n",
    "test_df_dropped_cols = test_df.drop(dropped_columns, axis=1)\n",
    "\n",
    "# Convert to numpy arrays\n",
    "train_arr = train_df_dropped_cols.to_numpy()\n",
    "test_arr = test_df_dropped_cols.to_numpy()\n",
    "\n",
    "# Normalize the feature data\n",
    "train_features_sc = StandardScaler()\n",
    "train_features_norm = train_features_sc.fit_transform(train_arr)\n",
    "test_features_norm = train_features_sc.transform(test_arr)\n",
    "\n",
    "# Normalize the target variable\n",
    "train_mktval = train_df['Market Value'].to_numpy().reshape(-1, 1)\n",
    "test_mktval = test_df['Market Value'].to_numpy().reshape(-1, 1)\n",
    "\n",
    "train_mktval_sc = StandardScaler()\n",
    "train_mktval_norm = train_mktval_sc.fit_transform(train_mktval)\n",
    "test_mktval_norm = train_mktval_sc.transform(test_mktval)\n",
    "\n",
    "# Support Vector Machine (SVM) regression\n",
    "svm_model = SVR(kernel='rbf', C=1.0, epsilon=0.1)\n",
    "\n",
    "# Train the model\n",
    "svm_model.fit(train_features_norm, train_mktval_norm.ravel())\n",
    "\n",
    "# Make predictions\n",
    "predictions = svm_model.predict(test_features_norm)\n",
    "\n",
    "# Evaluate the model\n",
    "mse = mean_squared_error(test_mktval_norm, predictions)\n",
    "r2 = r2_score(test_mktval_norm, predictions)\n",
    "\n",
    "# Print evaluation metrics\n",
    "print(f\"Mean Squared Error (MSE): {mse:.4f}\")\n",
    "print(f\"R-squared (R2): {r2:.4f}\")\n",
    "\n",
    "# Inverse transform predictions back to the original scale\n",
    "predictions_original_scale = train_mktval_sc.inverse_transform(predictions.reshape(-1, 1))\n",
    "test_mktval_original_scale = train_mktval_sc.inverse_transform(test_mktval_norm)\n",
    "\n",
    "# Print predictions on the original scale\n",
    "print(\"Predictions (original scale):\", predictions_original_scale.flatten()[:10])  # Display first 10 predictions\n",
    "print(\"Actual values (original scale):\", test_mktval_original_scale.flatten()[:10])  # Display first 10 actual values\n",
    "\n",
    "# Evaluate the model on the training data\n",
    "train_predictions = svm_model.predict(train_features_norm)\n",
    "\n",
    "# Calculate train MSE and R^2\n",
    "train_mse = mean_squared_error(train_mktval_norm, train_predictions)\n",
    "train_r2 = r2_score(train_mktval_norm, train_predictions)\n",
    "\n",
    "# Print train evaluation metrics\n",
    "print(f\"Train Mean Squared Error (MSE): {train_mse:.4f}\")\n",
    "print(f\"Train R-squared (R2): {train_r2:.4f}\")"
   ]
  }
 ],
 "metadata": {
  "colab": {
   "provenance": []
  },
  "kernelspec": {
   "display_name": "Python 3",
   "name": "python3"
  },
  "language_info": {
   "name": "python"
  }
 },
 "nbformat": 4,
 "nbformat_minor": 0
}

{
 "cells": [
  {
   "cell_type": "code",
   "execution_count": 1,
   "metadata": {},
   "outputs": [],
   "source": [
    "import pandas as pd\n",
    "import numpy as np\n",
    "\n",
    "import matplotlib.pyplot as plt\n",
    "\n",
    "from sklearn.decomposition import PCA\n",
    "from sklearn.preprocessing import StandardScaler\n",
    "\n",
    "from sklearn.linear_model import Lasso, Ridge\n",
    "\n",
    "from sklearn.metrics import mean_squared_error"
   ]
  },
  {
   "cell_type": "code",
   "execution_count": 2,
   "metadata": {},
   "outputs": [],
   "source": [
    "data_pd = pd.read_csv('/Users/msyzdykova/Desktop/dataset DS project/final scraped df/final_df_new.csv')"
   ]
  },
  {
   "cell_type": "code",
   "execution_count": 3,
   "metadata": {},
   "outputs": [
    {
     "data": {
      "text/html": [
       "<div>\n",
       "<style scoped>\n",
       "    .dataframe tbody tr th:only-of-type {\n",
       "        vertical-align: middle;\n",
       "    }\n",
       "\n",
       "    .dataframe tbody tr th {\n",
       "        vertical-align: top;\n",
       "    }\n",
       "\n",
       "    .dataframe thead th {\n",
       "        text-align: right;\n",
       "    }\n",
       "</style>\n",
       "<table border=\"1\" class=\"dataframe\">\n",
       "  <thead>\n",
       "    <tr style=\"text-align: right;\">\n",
       "      <th></th>\n",
       "      <th>Unnamed: 0</th>\n",
       "      <th>Player</th>\n",
       "      <th>Nation</th>\n",
       "      <th>Pos</th>\n",
       "      <th>Squad</th>\n",
       "      <th>Age</th>\n",
       "      <th>90s</th>\n",
       "      <th>Standard_Gls</th>\n",
       "      <th>Standard_Sh</th>\n",
       "      <th>Standard_SoT</th>\n",
       "      <th>...</th>\n",
       "      <th>Performance_TklW</th>\n",
       "      <th>Performance_PKwon</th>\n",
       "      <th>Performance_PKcon</th>\n",
       "      <th>Performance_OG</th>\n",
       "      <th>Performance_Recov</th>\n",
       "      <th>Aerial Duels_Won</th>\n",
       "      <th>Aerial Duels_Lost</th>\n",
       "      <th>Aerial Duels_Won%</th>\n",
       "      <th>League</th>\n",
       "      <th>Market Value</th>\n",
       "    </tr>\n",
       "  </thead>\n",
       "  <tbody>\n",
       "    <tr>\n",
       "      <th>0</th>\n",
       "      <td>0</td>\n",
       "      <td>William Saliba</td>\n",
       "      <td>FRA</td>\n",
       "      <td>DF</td>\n",
       "      <td>Arsenal</td>\n",
       "      <td>22.0</td>\n",
       "      <td>38.0</td>\n",
       "      <td>2</td>\n",
       "      <td>10</td>\n",
       "      <td>3</td>\n",
       "      <td>...</td>\n",
       "      <td>26</td>\n",
       "      <td>0</td>\n",
       "      <td>1</td>\n",
       "      <td>0</td>\n",
       "      <td>213</td>\n",
       "      <td>72</td>\n",
       "      <td>49</td>\n",
       "      <td>0.595</td>\n",
       "      <td>EPL</td>\n",
       "      <td>80000000.0</td>\n",
       "    </tr>\n",
       "    <tr>\n",
       "      <th>1</th>\n",
       "      <td>1</td>\n",
       "      <td>James Tarkowski</td>\n",
       "      <td>ENG</td>\n",
       "      <td>DF</td>\n",
       "      <td>Everton</td>\n",
       "      <td>30.0</td>\n",
       "      <td>38.0</td>\n",
       "      <td>1</td>\n",
       "      <td>25</td>\n",
       "      <td>4</td>\n",
       "      <td>...</td>\n",
       "      <td>42</td>\n",
       "      <td>0</td>\n",
       "      <td>1</td>\n",
       "      <td>0</td>\n",
       "      <td>186</td>\n",
       "      <td>140</td>\n",
       "      <td>61</td>\n",
       "      <td>0.697</td>\n",
       "      <td>EPL</td>\n",
       "      <td>13000000.0</td>\n",
       "    </tr>\n",
       "    <tr>\n",
       "      <th>2</th>\n",
       "      <td>2</td>\n",
       "      <td>Joachim Andersen</td>\n",
       "      <td>DEN</td>\n",
       "      <td>DF</td>\n",
       "      <td>Crystal Palace</td>\n",
       "      <td>27.0</td>\n",
       "      <td>37.9</td>\n",
       "      <td>2</td>\n",
       "      <td>21</td>\n",
       "      <td>8</td>\n",
       "      <td>...</td>\n",
       "      <td>35</td>\n",
       "      <td>0</td>\n",
       "      <td>0</td>\n",
       "      <td>0</td>\n",
       "      <td>193</td>\n",
       "      <td>89</td>\n",
       "      <td>46</td>\n",
       "      <td>0.659</td>\n",
       "      <td>EPL</td>\n",
       "      <td>35000000.0</td>\n",
       "    </tr>\n",
       "    <tr>\n",
       "      <th>3</th>\n",
       "      <td>3</td>\n",
       "      <td>Florian Lejeune</td>\n",
       "      <td>FRA</td>\n",
       "      <td>DF</td>\n",
       "      <td>Rayo Vallecano</td>\n",
       "      <td>32.0</td>\n",
       "      <td>37.0</td>\n",
       "      <td>3</td>\n",
       "      <td>67</td>\n",
       "      <td>21</td>\n",
       "      <td>...</td>\n",
       "      <td>25</td>\n",
       "      <td>0</td>\n",
       "      <td>0</td>\n",
       "      <td>1</td>\n",
       "      <td>173</td>\n",
       "      <td>80</td>\n",
       "      <td>49</td>\n",
       "      <td>0.620</td>\n",
       "      <td>La Liga</td>\n",
       "      <td>3000000.0</td>\n",
       "    </tr>\n",
       "    <tr>\n",
       "      <th>4</th>\n",
       "      <td>4</td>\n",
       "      <td>Dominic Solanke</td>\n",
       "      <td>ENG</td>\n",
       "      <td>FW</td>\n",
       "      <td>Bournemouth</td>\n",
       "      <td>25.0</td>\n",
       "      <td>36.9</td>\n",
       "      <td>19</td>\n",
       "      <td>106</td>\n",
       "      <td>35</td>\n",
       "      <td>...</td>\n",
       "      <td>11</td>\n",
       "      <td>1</td>\n",
       "      <td>0</td>\n",
       "      <td>0</td>\n",
       "      <td>97</td>\n",
       "      <td>97</td>\n",
       "      <td>135</td>\n",
       "      <td>0.418</td>\n",
       "      <td>EPL</td>\n",
       "      <td>45000000.0</td>\n",
       "    </tr>\n",
       "    <tr>\n",
       "      <th>...</th>\n",
       "      <td>...</td>\n",
       "      <td>...</td>\n",
       "      <td>...</td>\n",
       "      <td>...</td>\n",
       "      <td>...</td>\n",
       "      <td>...</td>\n",
       "      <td>...</td>\n",
       "      <td>...</td>\n",
       "      <td>...</td>\n",
       "      <td>...</td>\n",
       "      <td>...</td>\n",
       "      <td>...</td>\n",
       "      <td>...</td>\n",
       "      <td>...</td>\n",
       "      <td>...</td>\n",
       "      <td>...</td>\n",
       "      <td>...</td>\n",
       "      <td>...</td>\n",
       "      <td>...</td>\n",
       "      <td>...</td>\n",
       "      <td>...</td>\n",
       "    </tr>\n",
       "    <tr>\n",
       "      <th>615</th>\n",
       "      <td>615</td>\n",
       "      <td>Andrey Santos</td>\n",
       "      <td>BRA</td>\n",
       "      <td>MF</td>\n",
       "      <td>Nott'ham Forest</td>\n",
       "      <td>19.0</td>\n",
       "      <td>0.1</td>\n",
       "      <td>0</td>\n",
       "      <td>2</td>\n",
       "      <td>0</td>\n",
       "      <td>...</td>\n",
       "      <td>0</td>\n",
       "      <td>0</td>\n",
       "      <td>0</td>\n",
       "      <td>0</td>\n",
       "      <td>0</td>\n",
       "      <td>0</td>\n",
       "      <td>0</td>\n",
       "      <td>0.000</td>\n",
       "      <td>EPL</td>\n",
       "      <td>18000000.0</td>\n",
       "    </tr>\n",
       "    <tr>\n",
       "      <th>616</th>\n",
       "      <td>616</td>\n",
       "      <td>César Tárrega</td>\n",
       "      <td>ESP</td>\n",
       "      <td>DF</td>\n",
       "      <td>Valencia</td>\n",
       "      <td>21.0</td>\n",
       "      <td>0.1</td>\n",
       "      <td>0</td>\n",
       "      <td>0</td>\n",
       "      <td>0</td>\n",
       "      <td>...</td>\n",
       "      <td>0</td>\n",
       "      <td>0</td>\n",
       "      <td>0</td>\n",
       "      <td>0</td>\n",
       "      <td>0</td>\n",
       "      <td>0</td>\n",
       "      <td>0</td>\n",
       "      <td>0.000</td>\n",
       "      <td>La Liga</td>\n",
       "      <td>4000000.0</td>\n",
       "    </tr>\n",
       "    <tr>\n",
       "      <th>617</th>\n",
       "      <td>617</td>\n",
       "      <td>Mikey Moore</td>\n",
       "      <td>ENG</td>\n",
       "      <td>MF</td>\n",
       "      <td>Tottenham</td>\n",
       "      <td>15.0</td>\n",
       "      <td>0.0</td>\n",
       "      <td>0</td>\n",
       "      <td>0</td>\n",
       "      <td>0</td>\n",
       "      <td>...</td>\n",
       "      <td>0</td>\n",
       "      <td>0</td>\n",
       "      <td>0</td>\n",
       "      <td>0</td>\n",
       "      <td>0</td>\n",
       "      <td>0</td>\n",
       "      <td>0</td>\n",
       "      <td>0.000</td>\n",
       "      <td>EPL</td>\n",
       "      <td>1000000.0</td>\n",
       "    </tr>\n",
       "    <tr>\n",
       "      <th>618</th>\n",
       "      <td>618</td>\n",
       "      <td>Donny van de Beek</td>\n",
       "      <td>NED</td>\n",
       "      <td>DF</td>\n",
       "      <td>Manchester Utd</td>\n",
       "      <td>26.0</td>\n",
       "      <td>0.0</td>\n",
       "      <td>0</td>\n",
       "      <td>1</td>\n",
       "      <td>0</td>\n",
       "      <td>...</td>\n",
       "      <td>0</td>\n",
       "      <td>0</td>\n",
       "      <td>0</td>\n",
       "      <td>0</td>\n",
       "      <td>0</td>\n",
       "      <td>0</td>\n",
       "      <td>0</td>\n",
       "      <td>0.000</td>\n",
       "      <td>EPL</td>\n",
       "      <td>5000000.0</td>\n",
       "    </tr>\n",
       "    <tr>\n",
       "      <th>619</th>\n",
       "      <td>619</td>\n",
       "      <td>Álvaro Rodríguez</td>\n",
       "      <td>URU</td>\n",
       "      <td>FW</td>\n",
       "      <td>Real Madrid</td>\n",
       "      <td>19.0</td>\n",
       "      <td>0.0</td>\n",
       "      <td>0</td>\n",
       "      <td>0</td>\n",
       "      <td>0</td>\n",
       "      <td>...</td>\n",
       "      <td>0</td>\n",
       "      <td>0</td>\n",
       "      <td>0</td>\n",
       "      <td>0</td>\n",
       "      <td>1</td>\n",
       "      <td>0</td>\n",
       "      <td>0</td>\n",
       "      <td>0.000</td>\n",
       "      <td>La Liga</td>\n",
       "      <td>3500000.0</td>\n",
       "    </tr>\n",
       "  </tbody>\n",
       "</table>\n",
       "<p>620 rows × 119 columns</p>\n",
       "</div>"
      ],
      "text/plain": [
       "     Unnamed: 0             Player Nation Pos            Squad   Age   90s  \\\n",
       "0             0     William Saliba    FRA  DF          Arsenal  22.0  38.0   \n",
       "1             1    James Tarkowski    ENG  DF          Everton  30.0  38.0   \n",
       "2             2   Joachim Andersen    DEN  DF   Crystal Palace  27.0  37.9   \n",
       "3             3    Florian Lejeune    FRA  DF   Rayo Vallecano  32.0  37.0   \n",
       "4             4    Dominic Solanke    ENG  FW      Bournemouth  25.0  36.9   \n",
       "..          ...                ...    ...  ..              ...   ...   ...   \n",
       "615         615      Andrey Santos    BRA  MF  Nott'ham Forest  19.0   0.1   \n",
       "616         616      César Tárrega    ESP  DF         Valencia  21.0   0.1   \n",
       "617         617        Mikey Moore    ENG  MF        Tottenham  15.0   0.0   \n",
       "618         618  Donny van de Beek    NED  DF   Manchester Utd  26.0   0.0   \n",
       "619         619   Álvaro Rodríguez    URU  FW      Real Madrid  19.0   0.0   \n",
       "\n",
       "     Standard_Gls  Standard_Sh  Standard_SoT  ...  Performance_TklW  \\\n",
       "0               2           10             3  ...                26   \n",
       "1               1           25             4  ...                42   \n",
       "2               2           21             8  ...                35   \n",
       "3               3           67            21  ...                25   \n",
       "4              19          106            35  ...                11   \n",
       "..            ...          ...           ...  ...               ...   \n",
       "615             0            2             0  ...                 0   \n",
       "616             0            0             0  ...                 0   \n",
       "617             0            0             0  ...                 0   \n",
       "618             0            1             0  ...                 0   \n",
       "619             0            0             0  ...                 0   \n",
       "\n",
       "     Performance_PKwon  Performance_PKcon  Performance_OG  Performance_Recov  \\\n",
       "0                    0                  1               0                213   \n",
       "1                    0                  1               0                186   \n",
       "2                    0                  0               0                193   \n",
       "3                    0                  0               1                173   \n",
       "4                    1                  0               0                 97   \n",
       "..                 ...                ...             ...                ...   \n",
       "615                  0                  0               0                  0   \n",
       "616                  0                  0               0                  0   \n",
       "617                  0                  0               0                  0   \n",
       "618                  0                  0               0                  0   \n",
       "619                  0                  0               0                  1   \n",
       "\n",
       "     Aerial Duels_Won  Aerial Duels_Lost  Aerial Duels_Won%   League  \\\n",
       "0                  72                 49              0.595      EPL   \n",
       "1                 140                 61              0.697      EPL   \n",
       "2                  89                 46              0.659      EPL   \n",
       "3                  80                 49              0.620  La Liga   \n",
       "4                  97                135              0.418      EPL   \n",
       "..                ...                ...                ...      ...   \n",
       "615                 0                  0              0.000      EPL   \n",
       "616                 0                  0              0.000  La Liga   \n",
       "617                 0                  0              0.000      EPL   \n",
       "618                 0                  0              0.000      EPL   \n",
       "619                 0                  0              0.000  La Liga   \n",
       "\n",
       "     Market Value  \n",
       "0      80000000.0  \n",
       "1      13000000.0  \n",
       "2      35000000.0  \n",
       "3       3000000.0  \n",
       "4      45000000.0  \n",
       "..            ...  \n",
       "615    18000000.0  \n",
       "616     4000000.0  \n",
       "617     1000000.0  \n",
       "618     5000000.0  \n",
       "619     3500000.0  \n",
       "\n",
       "[620 rows x 119 columns]"
      ]
     },
     "execution_count": 3,
     "metadata": {},
     "output_type": "execute_result"
    }
   ],
   "source": [
    "data_pd"
   ]
  },
  {
   "cell_type": "code",
   "execution_count": 4,
   "metadata": {},
   "outputs": [],
   "source": [
    "dropped_columns = ['Unnamed: 0', 'Player', 'Nation', 'Pos','Age', 'Squad', '90s', 'League','Market Value']\n",
    "\n",
    "data_dropped_cols = data_pd.drop(dropped_columns, axis=1)\n",
    "data = data_dropped_cols.to_numpy()\n",
    "sc_data = StandardScaler()\n",
    "data = sc_data.fit_transform(data)\n",
    "data2 = data.copy()\n",
    "\n",
    "mktval = data_pd['Market Value'].to_numpy().reshape(-1, 1)\n",
    "sc_mkt_val = StandardScaler()\n",
    "mktval = sc_mkt_val.fit_transform(mktval)\n",
    "mktval2 = mktval.copy()"
   ]
  },
  {
   "cell_type": "code",
   "execution_count": 5,
   "metadata": {},
   "outputs": [
    {
     "data": {
      "text/plain": [
       "[<matplotlib.lines.Line2D at 0x7fa764585280>]"
      ]
     },
     "execution_count": 5,
     "metadata": {},
     "output_type": "execute_result"
    },
    {
     "data": {
      "image/png": "[encoded data removed]",
      "text/plain": [
       "<Figure size 640x480 with 1 Axes>"
      ]
     },
     "metadata": {},
     "output_type": "display_data"
    }
   ],
   "source": [
    "pca = PCA()\n",
    "pca.fit(data)\n",
    "plt.plot(pca.explained_variance_ratio_[:])\n",
    "pca.explained_variance_ratio_[:]\n",
    "# scree plot\n",
    "plt.title('Scree Plot')\n",
    "plt.xlabel('Number of components')\n",
    "plt.ylabel('Proportion of variance')\n",
    "plt.text(25,pca.explained_variance_ratio_[25]+0.01, f'(25 , {pca.explained_variance_ratio_[25]:.4f})')\n",
    "plt.plot(25,pca.explained_variance_ratio_[25], 'bo')\n"
   ]
  },
  {
   "cell_type": "code",
   "execution_count": 6,
   "metadata": {},
   "outputs": [
    {
     "data": {
      "text/plain": [
       "[<matplotlib.lines.Line2D at 0x7fa741735550>]"
      ]
     },
     "execution_count": 6,
     "metadata": {},
     "output_type": "execute_result"
    },
    {
     "data": {
      "image/png": "[encoded data removed]",
      "text/plain": [
       "<Figure size 640x480 with 1 Axes>"
      ]
     },
     "metadata": {},
     "output_type": "display_data"
    }
   ],
   "source": [
    "c_sum = np.cumsum(pca.explained_variance_ratio_)\n",
    "plt.plot(c_sum)\n",
    "plt.title('Cumulative Plot')\n",
    "plt.xlabel('Number of components')\n",
    "plt.ylabel('Cumulative proportion of variance')\n",
    "plt.text(25+2,c_sum[25]-0.01, f'(25 , {c_sum[25]:.4f})')\n",
    "plt.plot(25,c_sum[25], 'bo')"
   ]
  },
  {
   "cell_type": "code",
   "execution_count": 7,
   "metadata": {},
   "outputs": [
    {
     "name": "stdout",
     "output_type": "stream",
     "text": [
      "['Touches_Touches', 'Touches_Live', 'Performance_Recov', 'Receiving_Rec', 'Carries_TotDist']\n",
      "['Take-Ons_Tkld%', 'Standard_Sh/90', 'Performance_OG', 'Expected_A-xAG', 'Performance_2CrdY']\n",
      "\n",
      "['Standard_SoT/90', 'Touches_Att Pen', 'Carries_CPA', 'Standard_SoT', 'Expected_npxG']\n",
      "['Touches_Def 3rd', 'Touches_Def Pen', 'Clr', 'Blocks_Sh', 'Total_PrgDist']\n",
      "\n",
      "['Aerial Duels_Won', 'Aerial Duels_Lost', 'Expected_npxG/Sh', 'Standard_Gls', 'Expected_npxG']\n",
      "['Performance_Crs', 'CrsPA', 'SCA Types_PassDead', 'Standard_Dist', 'GCA Types_PassDead']\n",
      "\n",
      "['Performance_Fls', 'Tackles_Tkl', 'Tackles_TklW', 'Performance_TklW', 'Tackles_Mid 3rd']\n",
      "['Total_Cmp%', 'Short_Cmp%', 'Medium_Cmp%', 'Carries_PrgDist', 'Standard_FK']\n",
      "\n",
      "['Standard_PKatt', 'Standard_FK', 'SCA Types_PassDead', 'Standard_PK', 'Aerial Duels_Won']\n",
      "['Expected_np:G-xG', 'Expected_G-xG', 'Standard_G/Sh', 'Total_Cmp%', 'Standard_G/SoT']\n",
      "\n"
     ]
    }
   ],
   "source": [
    "for i in range(5):\n",
    "    sorted_pca = np.argsort(pca.components_[i])[-5:][::-1]\n",
    "    cols_upper = []\n",
    "    for a1 in sorted_pca:\n",
    "        cols_upper.append(data_dropped_cols.columns[a1])\n",
    "    print(cols_upper)\n",
    "\n",
    "    sorted_pca = np.argsort(pca.components_[i])[:5]\n",
    "    cols_lower = []\n",
    "    for a1 in sorted_pca:\n",
    "        cols_lower.append(data_dropped_cols.columns[a1])\n",
    "    print(cols_lower)\n",
    "    print()"
   ]
  },
  {
   "cell_type": "code",
   "execution_count": 8,
   "metadata": {},
   "outputs": [
    {
     "name": "stdout",
     "output_type": "stream",
     "text": [
      "(620, 110)\n",
      "(620, 110)\n"
     ]
    }
   ],
   "source": [
    "data_pca = pca.transform(data)\n",
    "print(data.shape)\n",
    "print(data_pca.shape)"
   ]
  },
  {
   "cell_type": "code",
   "execution_count": 9,
   "metadata": {},
   "outputs": [
    {
     "name": "stdout",
     "output_type": "stream",
     "text": [
      "0.0\n",
      "1.0\n"
     ]
    }
   ],
   "source": [
    "reg = Lasso()\n",
    "reg.fit(data2, mktval2)\n",
    "print(reg.score(data2, mktval2))\n",
    "print(np.sqrt(mean_squared_error(mktval2, reg.predict(data2))))"
   ]
  },
  {
   "cell_type": "code",
   "execution_count": 10,
   "metadata": {},
   "outputs": [
    {
     "name": "stdout",
     "output_type": "stream",
     "text": [
      "0.6537510103440964\n",
      "0.5884292562882165\n"
     ]
    }
   ],
   "source": [
    "reg = Ridge()\n",
    "reg.fit(data2, mktval2)\n",
    "print(reg.score(data2, mktval2))\n",
    "print(np.sqrt(mean_squared_error(mktval2, reg.predict(data2))))"
   ]
  },
  {
   "cell_type": "code",
   "execution_count": 12,
   "metadata": {},
   "outputs": [
    {
     "name": "stdout",
     "output_type": "stream",
     "text": [
      "0.21978148169205824\n",
      "0.8832997896003042\n"
     ]
    }
   ],
   "source": [
    "reg = Lasso()\n",
    "reg.fit(data_pca, mktval)\n",
    "print(reg.score(data_pca, mktval))\n",
    "print(np.sqrt(mean_squared_error(mktval, reg.predict(data_pca))))"
   ]
  },
  {
   "cell_type": "code",
   "execution_count": 13,
   "metadata": {},
   "outputs": [
    {
     "name": "stdout",
     "output_type": "stream",
     "text": [
      "0.6537510103440967\n",
      "0.5884292562882163\n"
     ]
    }
   ],
   "source": [
    "reg = Ridge()\n",
    "reg.fit(data_pca, mktval)\n",
    "print(reg.score(data_pca, mktval))\n",
    "print(np.sqrt(mean_squared_error(mktval, reg.predict(data_pca))))"
   ]
  },
  {
   "cell_type": "code",
   "execution_count": 14,
   "metadata": {},
   "outputs": [],
   "source": [
    "l_vals = []\n",
    "r_vals = []\n",
    "\n",
    "for i in range(1,110):\n",
    "    pca = PCA(n_components=i)\n",
    "    pca.fit(data)\n",
    "    data_pca = pca.transform(data)\n",
    "    reg = Lasso()\n",
    "    reg.fit(data_pca, mktval)\n",
    "    a = reg.score(data_pca, mktval)\n",
    "    reg = Ridge()\n",
    "    reg.fit(data_pca, mktval)\n",
    "    b = reg.score(data_pca, mktval)\n",
    "    l_vals.append(a)\n",
    "    r_vals.append(b)"
   ]
  },
  {
   "cell_type": "code",
   "execution_count": 15,
   "metadata": {},
   "outputs": [
    {
     "data": {
      "text/plain": [
       "[<matplotlib.lines.Line2D at 0x7fa7644fff40>]"
      ]
     },
     "execution_count": 15,
     "metadata": {},
     "output_type": "execute_result"
    },
    {
     "data": {
      "image/png": "[encoded data removed]",
      "text/plain": [
       "<Figure size 640x480 with 1 Axes>"
      ]
     },
     "metadata": {},
     "output_type": "display_data"
    }
   ],
   "source": [
    "plt.plot(l_vals)\n",
    "plt.plot(r_vals)"
   ]
  },
  {
   "cell_type": "code",
   "execution_count": null,
   "metadata": {},
   "outputs": [],
   "source": []
  }
 ],
 "metadata": {
  "kernelspec": {
   "display_name": "Python 3 (ipykernel)",
   "language": "python",
   "name": "python3"
  },
  "language_info": {
   "codemirror_mode": {
    "name": "ipython",
    "version": 3
   },
   "file_extension": ".py",
   "mimetype": "text/x-python",
   "name": "python",
   "nbconvert_exporter": "python",
   "pygments_lexer": "ipython3",
   "version": "3.9.16"
  }
 },
 "nbformat": 4,
 "nbformat_minor": 2
}
